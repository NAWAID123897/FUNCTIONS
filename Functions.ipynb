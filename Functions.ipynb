{
  "nbformat": 4,
  "nbformat_minor": 0,
  "metadata": {
    "colab": {
      "provenance": []
    },
    "kernelspec": {
      "name": "python3",
      "display_name": "Python 3"
    },
    "language_info": {
      "name": "python"
    }
  },
  "cells": [
    {
      "cell_type": "code",
      "execution_count": null,
      "metadata": {
        "id": "WiM8GySlTDXz"
      },
      "outputs": [],
      "source": []
    },
    {
      "cell_type": "markdown",
      "source": [
        "#1. What is Python, and why is it popular\n",
        "Python is high-lavel, interpreted programming language that is widely used in software development, data science, machine learning, web development, automation and more.\n",
        "It is popular because there are several reasons like\n",
        "1. Simple and Readable syntax\n",
        "2. Its versatile language used in many fields\n",
        "3. huge library support\n",
        "4. It has huge community support\n",
        "5. we can easily integrate with database"
      ],
      "metadata": {
        "id": "2XQ6T-CuV7oM"
      }
    },
    {
      "cell_type": "markdown",
      "source": [
        "#2. What is an interpreter in Python\n",
        "An interpreter in Python is a program that reads and excecutes Python code line by line instead of compiling the whole program at once.\n"
      ],
      "metadata": {
        "id": "z9B1XpmDV7kr"
      }
    },
    {
      "cell_type": "markdown",
      "source": [
        "#3. What are pre-defined keywords in Python\n",
        "Keywords in python are reserved words that heaving a special meaning and purpose in python language.we cannot use them as variable name, function name or identofiers."
      ],
      "metadata": {
        "id": "8LmE3-EwV7h-"
      }
    },
    {
      "cell_type": "markdown",
      "source": [
        "# 4. Can keywords be used as variable names\n",
        "We cannot use keywords as a variable name beacuse keywords are reserved words they are already define in python with special meaning and purpose."
      ],
      "metadata": {
        "id": "33bUFnj-V7fd"
      }
    },
    {
      "cell_type": "markdown",
      "source": [
        "# 5. What is mutability in Python\n",
        "Mutaiblity in python means we can change in future after creation. We have some data structures that are mutability like list and distionary,set."
      ],
      "metadata": {
        "id": "_KqOThz4V7cp"
      }
    },
    {
      "cell_type": "markdown",
      "source": [
        "#6. Why are lists mutable, but tuples are immutable\n",
        "Because list are desigend for flexible, So there we can cahnge , add and remove elements after creation. It is also useful when we need a dynamic collection of items.\n",
        "\n",
        "Tuple is immutable because it is designed for fixed colllections of items. Once created their contents cannot be changed. This immutability makes them data ensures safety."
      ],
      "metadata": {
        "id": "Rm6ClhEQjxv1"
      }
    },
    {
      "cell_type": "markdown",
      "source": [
        "# 7.  What is the difference between “==” and “is” operators in Pyth\n",
        "\n",
        "\"==\" this is is called a comparison operator when we want to compare with one value to another value and \"is\" operator is called identifier operator . these operator compares both variables refer same exact memory or not ."
      ],
      "metadata": {
        "id": "0UoWK9S1jxsT"
      }
    },
    {
      "cell_type": "markdown",
      "source": [
        "# 8. What are logical operators in Python\n",
        "And, Or , NOt these all are logical operators.These operators in python are used to combine multiple conditions."
      ],
      "metadata": {
        "id": "y0C_0Zbdjxpu"
      }
    },
    {
      "cell_type": "markdown",
      "source": [
        "# 9. What is type casting in Python\n",
        "Type casting in Python means converting one data type into another. It can be implicit, where Python converts automatically for example int to float in expressions, or explicit, where we use functions like int(), float(), or str(). However, conversion is only possible when the values are compatible, for example converting '10' to an integer works, but converting 'hello' to an integer will give an error.\n"
      ],
      "metadata": {
        "id": "cjNhzbc4jxml"
      }
    },
    {
      "cell_type": "markdown",
      "source": [
        "# 10.  What is the difference between implicit and explicit type casting\n",
        "ans. Implicit Type casteing means automatically change the data type.\n",
        "Explicitly type casting manually change the type casting."
      ],
      "metadata": {
        "id": "DbhQF-2Jjxjr"
      }
    },
    {
      "cell_type": "markdown",
      "source": [
        "#11. What is the purpose of conditional statements in Python\n",
        "\n",
        "The purpose of conditional statements in Python is to control the flow of a program by executing certain code blocks only when specific conditions are true."
      ],
      "metadata": {
        "id": "smqOOPY7jxWh"
      }
    },
    {
      "cell_type": "markdown",
      "source": [],
      "metadata": {
        "id": "X_EMb_-7D7Wb"
      }
    },
    {
      "cell_type": "markdown",
      "source": [
        "#12. How does the elif statement work\n",
        "\n",
        "ans. elif condition is used wen we want to used multiple conditions. If \"If\" condition is failed then elif condition will execute.\n"
      ],
      "metadata": {
        "id": "N47JTIZtD8SO"
      }
    },
    {
      "cell_type": "markdown",
      "source": [
        "# 13. What is the difference between for and while loops\n",
        "\n",
        "ans.**for loop**\n",
        "Used to iterate over a sequence(list, tuple,string,range etc).\n",
        "\n",
        "when the number of iteration is known or we looping over a collection.\n",
        "\n",
        "automatically moves to the next item in the sequence.\n",
        "\n",
        "**While loop**\n",
        "Used to repeat a block of code untill condition becomes False.\n",
        "\n",
        "When the number of iterations is unknown and depends on condition.\n",
        "\n",
        "Requires manual update of the loop variable to avoid infinite loop.\n"
      ],
      "metadata": {
        "id": "9iP0kB93D8Ot"
      }
    },
    {
      "cell_type": "markdown",
      "source": [
        "# 14. Describe a scenario where a while loop is more suitable than a for loop.\n",
        "\n",
        "A while loop is more suitable when the number of iterations is unknown and depends on a condition. For example, when asking a user to enter the correct password, we don’t know how many attempts they will take, so a while loop is the best choice"
      ],
      "metadata": {
        "id": "15Rq7VzdD8MZ"
      }
    },
    {
      "cell_type": "markdown",
      "source": [],
      "metadata": {
        "id": "0KNBuRmzD8J1"
      }
    },
    {
      "cell_type": "code",
      "source": [
        "# 16. Write a Python program to print \"Hello, World!\"\n",
        "print(\"Hello, World!\")\n"
      ],
      "metadata": {
        "colab": {
          "base_uri": "https://localhost:8080/"
        },
        "id": "Vj7JXaF9VAga",
        "outputId": "39c06d5d-f1c4-479e-b074-61c13b61197a"
      },
      "execution_count": null,
      "outputs": [
        {
          "output_type": "stream",
          "name": "stdout",
          "text": [
            "Hello, World!\n"
          ]
        }
      ]
    },
    {
      "cell_type": "code",
      "source": [
        "# Write a Python program that displays your name and age\n",
        "name=(input('enter your name > '))\n",
        "age=int(input('enter your age > '))\n",
        "print(name)\n",
        "print(age)\n"
      ],
      "metadata": {
        "colab": {
          "base_uri": "https://localhost:8080/"
        },
        "id": "vsqcHxivVAdD",
        "outputId": "4ad54bb2-a66d-49fc-f465-2c310e54e465"
      },
      "execution_count": null,
      "outputs": [
        {
          "output_type": "stream",
          "name": "stdout",
          "text": [
            "enter your name > nawaid reza\n",
            "enter your age > 24\n",
            "nawaid reza\n",
            "24\n"
          ]
        }
      ]
    },
    {
      "cell_type": "code",
      "source": [
        "#  Write code to print all the pre-defined keywords in Python using the keyword library\n",
        "import keyword\n",
        "\n",
        "# Print all Python keywords\n",
        "print(\"List of Python Keywords:\")\n",
        "for kw in keyword.kwlist:\n",
        "    print(kw)\n",
        "\n",
        "# Print total number of keywords\n",
        "print(\"\\nTotal number of keywords:\", len(keyword.kwlist))\n"
      ],
      "metadata": {
        "colab": {
          "base_uri": "https://localhost:8080/"
        },
        "id": "-lGHNXsiVAXu",
        "outputId": "dd8626d3-f5f0-481f-e58f-1519939113c8"
      },
      "execution_count": null,
      "outputs": [
        {
          "output_type": "stream",
          "name": "stdout",
          "text": [
            "List of Python Keywords:\n",
            "False\n",
            "None\n",
            "True\n",
            "and\n",
            "as\n",
            "assert\n",
            "async\n",
            "await\n",
            "break\n",
            "class\n",
            "continue\n",
            "def\n",
            "del\n",
            "elif\n",
            "else\n",
            "except\n",
            "finally\n",
            "for\n",
            "from\n",
            "global\n",
            "if\n",
            "import\n",
            "in\n",
            "is\n",
            "lambda\n",
            "nonlocal\n",
            "not\n",
            "or\n",
            "pass\n",
            "raise\n",
            "return\n",
            "try\n",
            "while\n",
            "with\n",
            "yield\n",
            "\n",
            "Total number of keywords: 35\n"
          ]
        }
      ]
    },
    {
      "cell_type": "code",
      "source": [
        "#  Write a program that checks if a given word is a Python keyword\n",
        "import keyword\n",
        "word=input(' enter a word ')\n",
        "if keyword.iskeyword(word):\n",
        "  print(f' {word} is a python keyword ')\n",
        "else:\n",
        "  print(f'\"{word}\" is not a python keyword')\n",
        "\n"
      ],
      "metadata": {
        "colab": {
          "base_uri": "https://localhost:8080/"
        },
        "id": "-DuuB7ISVAUY",
        "outputId": "f3e85adf-10ee-423c-92b3-fe7782cad1aa"
      },
      "execution_count": null,
      "outputs": [
        {
          "output_type": "stream",
          "name": "stdout",
          "text": [
            " enter a word for\n",
            " for is a python keyword \n"
          ]
        }
      ]
    },
    {
      "cell_type": "code",
      "source": [
        "#  Create a list and tuple in Python, and demonstrate how attempting to change an element works differently\n",
        "my_list=[10,20,30]\n",
        "print(\"my original list \", my_list)\n",
        "\n",
        "#Modify list\n",
        "my_list[1]=200\n",
        "my_list"
      ],
      "metadata": {
        "id": "h7pRJUkeVARs",
        "colab": {
          "base_uri": "https://localhost:8080/"
        },
        "outputId": "ac3af086-1baf-42e2-fb25-ed01c17b4e9f"
      },
      "execution_count": 1,
      "outputs": [
        {
          "output_type": "stream",
          "name": "stdout",
          "text": [
            "my original list  [10, 20, 30]\n"
          ]
        },
        {
          "output_type": "execute_result",
          "data": {
            "text/plain": [
              "[10, 200, 30]"
            ]
          },
          "metadata": {},
          "execution_count": 1
        }
      ]
    },
    {
      "cell_type": "code",
      "source": [
        "my_tuple=(10,20,30)\n",
        "print(\"my original list \", my_tuple)\n",
        "\n",
        "# Try to modify an element in the tuple\n",
        "try:\n",
        "    my_tuple[1] = 200\n",
        "except TypeError as e:\n",
        "    print(\"Error when modifying tuple:\", e)"
      ],
      "metadata": {
        "id": "ZgLMgYInUvKt",
        "colab": {
          "base_uri": "https://localhost:8080/"
        },
        "outputId": "79466ff0-39ed-4db4-8388-c5c703574718"
      },
      "execution_count": 2,
      "outputs": [
        {
          "output_type": "stream",
          "name": "stdout",
          "text": [
            "my original list  (10, 20, 30)\n",
            "Error when modifying tuple: 'tuple' object does not support item assignment\n"
          ]
        }
      ]
    },
    {
      "cell_type": "code",
      "source": [
        "# 6. Write a function to demonstrate the behavior of mutable and immutable arguments\n",
        "\n"
      ],
      "metadata": {
        "id": "5nALZ4quUvHO"
      },
      "execution_count": null,
      "outputs": []
    },
    {
      "cell_type": "code",
      "source": [
        "# 7. Write a program that performs basic arithmetic operations on two user-input numbers.\n",
        "num1=int(input('enter number '))\n",
        "num2=int(input('enter number '))\n",
        "print(num1+num2)\n",
        "print(num1-num2)\n",
        "print(num1*num2)\n",
        "print(num1/num2)"
      ],
      "metadata": {
        "id": "t8eF8_VTUvEK",
        "colab": {
          "base_uri": "https://localhost:8080/"
        },
        "outputId": "d6b62aa8-4991-4be5-d066-9d098da0014b"
      },
      "execution_count": 3,
      "outputs": [
        {
          "output_type": "stream",
          "name": "stdout",
          "text": [
            "enter number 10\n",
            "enter number 20\n",
            "30\n",
            "-10\n",
            "200\n",
            "0.5\n"
          ]
        }
      ]
    },
    {
      "cell_type": "code",
      "source": [
        "# 8. Write a program to demonstrate the use of logical operators.\n",
        "age = int(input(\"Enter age: \"))\n",
        "citizen = input(\"Are you a citizen of India? (yes/no): \")\n",
        "\n",
        "# Using logical operators\n",
        "if age >= 18 and citizen.lower() == \"yes\":\n",
        "    print(\"✅ Eligible to vote\")\n",
        "elif age >= 18 and citizen.lower() == \"no\":\n",
        "    print(\"❌ Not eligible (not a citizen)\")\n",
        "else:\n",
        "    print(\"❌ Not eligible (underage)\")\n"
      ],
      "metadata": {
        "id": "J6xcGIPtUvAk",
        "colab": {
          "base_uri": "https://localhost:8080/"
        },
        "outputId": "b30bf64c-6e3e-4015-c82d-650d78dd6cf2"
      },
      "execution_count": 5,
      "outputs": [
        {
          "output_type": "stream",
          "name": "stdout",
          "text": [
            "Enter age: 18\n",
            "Are you a citizen of India? (yes/no): yes\n",
            "✅ Eligible to vote\n"
          ]
        }
      ]
    },
    {
      "cell_type": "code",
      "source": [
        "# 9. Write a Python program to convert user input from string to integer, float, and boolean types\n",
        "string=\"25\"\n",
        "integer=int(string)\n",
        "print(string)\n",
        "Float=float(string)\n",
        "print(Float)\n",
        "boolean=bool(string)\n",
        "print(boolean)"
      ],
      "metadata": {
        "id": "Uvo2axm0Uu95",
        "colab": {
          "base_uri": "https://localhost:8080/"
        },
        "outputId": "5295ed59-b05d-45a2-f986-410d04e76088"
      },
      "execution_count": 8,
      "outputs": [
        {
          "output_type": "stream",
          "name": "stdout",
          "text": [
            "25\n",
            "25.0\n",
            "True\n"
          ]
        }
      ]
    },
    {
      "cell_type": "code",
      "source": [
        "# 10. Write code to demonstrate type casting with list elements.\n",
        "my_list=[10,20,30]\n",
        "my_tuple=tuple(my_list)\n",
        "print(my_tuple)\n",
        "float_list=[float(x) for x in my_list]\n",
        "print(\"list elements to float \", float_list)\n",
        "strng_list=[str(x) for x in my_list]\n",
        "print('list elements in string',strng_list)"
      ],
      "metadata": {
        "id": "msvHIaDbUu7l",
        "colab": {
          "base_uri": "https://localhost:8080/"
        },
        "outputId": "d34ef971-f6ad-4bae-b5f3-ff0542301b6b"
      },
      "execution_count": 16,
      "outputs": [
        {
          "output_type": "stream",
          "name": "stdout",
          "text": [
            "(10, 20, 30)\n",
            "list elements to float  [10.0, 20.0, 30.0]\n",
            "list elements in string ['10', '20', '30']\n"
          ]
        }
      ]
    },
    {
      "cell_type": "code",
      "source": [
        "# 11. Write a program that checks if a number is positive, negative, or zero.\n",
        "\n",
        "num = int(input(\"Enter a number: \"))\n",
        "if num > 0:\n",
        "    print(\"The number is Positive.\")\n",
        "elif num < 0:\n",
        "    print(\"The number is Negative.\")\n",
        "else:\n",
        "    print(\"The number is Zero.\")\n"
      ],
      "metadata": {
        "id": "M4OHH8nI6vI9"
      },
      "execution_count": null,
      "outputs": []
    },
    {
      "cell_type": "code",
      "source": [
        "# 12. Write a for loop to print numbers from 1 to 10.\n",
        "num=int(input('enetr number '))\n",
        "for i in range(1,num+1):\n",
        "  print(i,end=\" \")"
      ],
      "metadata": {
        "colab": {
          "base_uri": "https://localhost:8080/"
        },
        "id": "G_rSaoYnAHCb",
        "outputId": "e4230655-ce37-48e6-b36c-58dbdff7474e"
      },
      "execution_count": 18,
      "outputs": [
        {
          "output_type": "stream",
          "name": "stdout",
          "text": [
            "enetr number 10\n",
            "1 2 3 4 5 6 7 8 9 10 "
          ]
        }
      ]
    },
    {
      "cell_type": "code",
      "source": [
        "# 13. Write a Python program to find the sum of all even numbers between 1 and 50.\n",
        "total=0\n",
        "num=2\n",
        "while num<=50:\n",
        "  total+=num\n",
        "  num+=2\n",
        "print(\"sum of even numbers between 1 to 5 are \",total)"
      ],
      "metadata": {
        "colab": {
          "base_uri": "https://localhost:8080/"
        },
        "id": "E1AAah3aAG_E",
        "outputId": "33650977-119e-4250-8b05-fd9ccbdc90fe"
      },
      "execution_count": 28,
      "outputs": [
        {
          "output_type": "stream",
          "name": "stdout",
          "text": [
            "sum of even numbers between 1 to 5 are  650\n"
          ]
        }
      ]
    },
    {
      "cell_type": "code",
      "source": [
        "num=int(input('enetr number '))\n",
        "sum=0\n",
        "count=0\n",
        "while count<=num:\n",
        "  sum+=count\n",
        "  count+=1\n",
        "print(sum)"
      ],
      "metadata": {
        "colab": {
          "base_uri": "https://localhost:8080/"
        },
        "id": "Oq4LN3jhAG8w",
        "outputId": "62c43179-3a3d-4987-bc50-330f9110cb7f"
      },
      "execution_count": 26,
      "outputs": [
        {
          "output_type": "stream",
          "name": "stdout",
          "text": [
            "enetr number 10\n",
            "55\n"
          ]
        }
      ]
    },
    {
      "cell_type": "code",
      "source": [
        "# 14. Write a program to reverse a string using a while loop.\n",
        "string = \"pwskills\"\n",
        "reversed_string = \"\"\n",
        "index = len(string) - 1\n",
        "while index >= 0:\n",
        "    reversed_string += string[index]\n",
        "    index -= 1\n",
        "print(\"Original String:\", string)\n",
        "print(\"Reversed String:\", reversed_string)\n"
      ],
      "metadata": {
        "colab": {
          "base_uri": "https://localhost:8080/"
        },
        "id": "C3GnKYXtM3Ub",
        "outputId": "ab252d5f-ae1e-4481-e025-46c06f238f6a"
      },
      "execution_count": 30,
      "outputs": [
        {
          "output_type": "stream",
          "name": "stdout",
          "text": [
            "Original String: pwskills\n",
            "Reversed String: sllikswp\n"
          ]
        }
      ]
    },
    {
      "cell_type": "code",
      "source": [
        "# 15. Write a Python program to calculate the factorial of a number provided by the user using a while loop\n",
        "num=int(input('enetr number '))\n",
        "fact=1\n",
        "count=1\n",
        "while count<=num:\n",
        "  fact*=count\n",
        "  count+=1\n",
        "print(fact)"
      ],
      "metadata": {
        "colab": {
          "base_uri": "https://localhost:8080/"
        },
        "id": "8Fu2R2WcM3RB",
        "outputId": "b4c87bb4-4fc9-40f2-bf85-f97adee633fc"
      },
      "execution_count": 34,
      "outputs": [
        {
          "output_type": "stream",
          "name": "stdout",
          "text": [
            "enetr number 5\n",
            "120\n"
          ]
        }
      ]
    }
  ]
}